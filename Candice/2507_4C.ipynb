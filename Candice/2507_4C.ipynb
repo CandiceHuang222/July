{
  "nbformat": 4,
  "nbformat_minor": 0,
  "metadata": {
    "colab": {
      "provenance": [],
      "authorship_tag": "ABX9TyPaLFkS5Yburh8PtUpCIIeH",
      "include_colab_link": true
    },
    "kernelspec": {
      "name": "python3",
      "display_name": "Python 3"
    },
    "language_info": {
      "name": "python"
    }
  },
  "cells": [
    {
      "cell_type": "markdown",
      "metadata": {
        "id": "view-in-github",
        "colab_type": "text"
      },
      "source": [
        "<a href=\"https://colab.research.google.com/github/CandiceHuang222/July/blob/main/Candice/2507_4C.ipynb\" target=\"_parent\"><img src=\"https://colab.research.google.com/assets/colab-badge.svg\" alt=\"Open In Colab\"/></a>"
      ]
    },
    {
      "cell_type": "code",
      "execution_count": null,
      "metadata": {
        "colab": {
          "base_uri": "https://localhost:8080/"
        },
        "id": "seOpxPa4ijcl",
        "outputId": "c3f52281-ff61-4dd0-b2f6-c4607352331a"
      },
      "outputs": [
        {
          "output_type": "stream",
          "name": "stdout",
          "text": [
            "🔧 機器狀態總覽：\n",
            "SN        HOST      STATUS      TEST_RESULT\n",
            "---------------------------------------------\n",
            "SN_001    HOST_1    IDLE        PASS\n",
            "SN_002    HOST_2    RUN         FAIL\n",
            "SN_003    HOST_3    LOST        PASS\n",
            "SN_004    HOST_4    LOST        PENDING\n",
            "SN_005    HOST_1    IDLE        FAIL\n",
            "SN_006    HOST_2    IDLE        PENDING\n",
            "SN_007    HOST_3    LOST        FAIL\n",
            "SN_008    HOST_4    RUN         PENDING\n",
            "SN_009    HOST_1    IDLE        FAIL\n",
            "SN_010    HOST_2    IDLE        FAIL\n",
            "\n",
            "📊 測試結果統計：\n",
            "PASS    ：2 台\n",
            "FAIL    ：5 台\n",
            "PENDING ：3 台\n",
            "\n",
            "🔍 輸入 SN 編號查詢（例如 SN_005），輸入 exit 離開。\n",
            "\n",
            "📍 SN：SN_001\n",
            "    → HOST：HOST_1\n",
            "    → 狀態：IDLE\n",
            "    → 測試結果：PASS\n",
            "查詢 SN：SN_010\n",
            "\n",
            "📍 SN：SN_010\n",
            "    → HOST：HOST_2\n",
            "    → 狀態：IDLE\n",
            "    → 測試結果：FAIL\n"
          ]
        }
      ],
      "source": [
        "import random\n",
        "from collections import Counter\n",
        "\n",
        "# === SN、HOST 設定 ===\n",
        "sn_list = [f\"SN_{i+1:03d}\" for i in range(10)]\n",
        "hosts = [\"HOST_1\", \"HOST_2\", \"HOST_3\", \"HOST_4\"]\n",
        "\n",
        "# === 狀態與測試結果選項 ===\n",
        "status_choices = [\"RUN\", \"IDLE\", \"LOST\"]\n",
        "test_result_choices = [\"PASS\", \"FAIL\", \"PENDING\"]\n",
        "\n",
        "# === 建立資料表 ===\n",
        "machine_table = {}\n",
        "for idx, sn in enumerate(sn_list):\n",
        "    host = hosts[idx % len(hosts)]\n",
        "    status = random.choice(status_choices)\n",
        "    test_result = random.choice(test_result_choices)\n",
        "    machine_table[sn] = {\n",
        "        \"HOST\": host,\n",
        "        \"STATUS\": status,\n",
        "        \"TEST_RESULT\": test_result\n",
        "    }\n",
        "\n",
        "# === 顯示總覽 ===\n",
        "print(\"🔧 機器狀態總覽：\")\n",
        "print(f\"{'SN':<10}{'HOST':<10}{'STATUS':<12}{'TEST_RESULT'}\")\n",
        "print(\"-\" * 45)\n",
        "for sn, info in machine_table.items():\n",
        "    print(f\"{sn:<10}{info['HOST']:<10}{info['STATUS']:<12}{info['TEST_RESULT']}\")\n",
        "\n",
        "# === 測試結果統計 ===\n",
        "test_result_counter = Counter(info[\"TEST_RESULT\"] for info in machine_table.values())\n",
        "\n",
        "print(\"\\n📊 測試結果統計：\")\n",
        "for result in test_result_choices:\n",
        "    count = test_result_counter.get(result, 0)\n",
        "    print(f\"{result:<8}：{count} 台\")\n",
        "\n",
        "# === 查詢互動 ===\n",
        "print(\"\\n🔍 輸入 SN 編號查詢（例如 SN_005），輸入 exit 離開。\")\n",
        "while True:\n",
        "    user_input = input(\"查詢 SN：\").strip().upper()\n",
        "    if user_input == \"EXIT\":\n",
        "        print(\"✅ 查詢結束，再見！\")\n",
        "        break\n",
        "    elif user_input in machine_table:\n",
        "        info = machine_table[user_input]\n",
        "        print(f\"\\n📍 SN：{user_input}\")\n",
        "        print(f\"    → HOST：{info['HOST']}\")\n",
        "        print(f\"    → 狀態：{info['STATUS']}\")\n",
        "        print(f\"    → 測試結果：{info['TEST_RESULT']}\")\n",
        "    else:\n",
        "        print(\"❌ 無此 SN，請重新輸入。\")\n"
      ]
    },
    {
      "cell_type": "code",
      "source": [],
      "metadata": {
        "id": "u0qfee2IilFc"
      },
      "execution_count": null,
      "outputs": []
    }
  ]
}